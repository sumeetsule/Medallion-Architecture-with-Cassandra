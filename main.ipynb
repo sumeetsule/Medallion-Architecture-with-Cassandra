{
 "cells": [
  {
   "cell_type": "code",
   "execution_count": 64,
   "metadata": {},
   "outputs": [],
   "source": [
    "from cassandra.cluster import Cluster\n",
    "from cassandra.auth import PlainTextAuthProvider\n",
    "import pandas as pd\n",
    "import json"
   ]
  },
  {
   "cell_type": "code",
   "execution_count": 65,
   "metadata": {},
   "outputs": [
    {
     "name": "stdout",
     "output_type": "stream",
     "text": [
      "Connected\n"
     ]
    }
   ],
   "source": [
    "cloud_config = {\n",
    "    'secure_connect_bundle' : 'secure-connect-cassandra-assignment.zip'\n",
    "}\n",
    "\n",
    "with open(\"token.json\") as f:\n",
    "    secrets = json.load(f)\n",
    "    \n",
    "CLIENT_ID = secrets[\"clientId\"]\n",
    "CLIENT_SECRET = secrets[\"secret\"]\n",
    "\n",
    "auth_provider = PlainTextAuthProvider(CLIENT_ID,CLIENT_SECRET)\n",
    "cluster = Cluster(cloud=cloud_config, auth_provider=auth_provider)\n",
    "session = cluster.connect()\n",
    "\n",
    "if session:\n",
    "    print(\"Connected\")\n",
    "else:\n",
    "    print(\"An error occured\")"
   ]
  },
  {
   "cell_type": "markdown",
   "metadata": {},
   "source": [
    "Set keyspace"
   ]
  },
  {
   "cell_type": "code",
   "execution_count": 66,
   "metadata": {},
   "outputs": [],
   "source": [
    "session.set_keyspace(\"assignment\")"
   ]
  },
  {
   "cell_type": "markdown",
   "metadata": {},
   "source": [
    "# Bronze Level"
   ]
  },
  {
   "cell_type": "markdown",
   "metadata": {},
   "source": [
    "Insert raw data"
   ]
  },
  {
   "cell_type": "code",
   "execution_count": 67,
   "metadata": {},
   "outputs": [],
   "source": [
    "df = pd.read_csv(\"sales_100.csv\")"
   ]
  },
  {
   "cell_type": "code",
   "execution_count": 68,
   "metadata": {},
   "outputs": [],
   "source": [
    "# Drop the existing table if already created\n",
    "# session.execute(\"DROP TABLE IF EXISTS sales_data\")"
   ]
  },
  {
   "cell_type": "code",
   "execution_count": 69,
   "metadata": {},
   "outputs": [
    {
     "data": {
      "text/plain": [
       "<cassandra.cluster.ResultSet at 0x21d048439d0>"
      ]
     },
     "execution_count": 69,
     "metadata": {},
     "output_type": "execute_result"
    }
   ],
   "source": [
    "session.execute(\"\"\"\n",
    "CREATE TABLE IF NOT EXISTS sales_data (\n",
    "    region TEXT,\n",
    "    country TEXT,\n",
    "    item_type TEXT,\n",
    "    sales_channel TEXT,\n",
    "    order_priority TEXT,\n",
    "    order_date DATE,\n",
    "    order_id BIGINT PRIMARY KEY,\n",
    "    ship_date DATE,\n",
    "    units_sold INT,\n",
    "    unit_price FLOAT,\n",
    "    unit_cost FLOAT,\n",
    "    total_revenue FLOAT,\n",
    "    total_cost FLOAT,\n",
    "    total_profit FLOAT\n",
    ")\n",
    "\"\"\")"
   ]
  },
  {
   "cell_type": "code",
   "execution_count": 70,
   "metadata": {},
   "outputs": [],
   "source": [
    "from datetime import datetime\n",
    "\n",
    "# Convert dates to the correct format if they are not already\n",
    "df['Order Date'] = pd.to_datetime(df['Order Date']).dt.date\n",
    "df['Ship Date'] = pd.to_datetime(df['Ship Date']).dt.date\n",
    "\n",
    "# Insert rows into Cassandra\n",
    "for _, row in df.iterrows():\n",
    "    session.execute(\"\"\"\n",
    "    INSERT INTO sales_data (\n",
    "        region, country, item_type, sales_channel, order_priority, order_date, \n",
    "        order_id, ship_date, units_sold, unit_price, unit_cost, total_revenue, \n",
    "        total_cost, total_profit\n",
    "    ) VALUES (%s, %s, %s, %s, %s, %s, %s, %s, %s, %s, %s, %s, %s, %s)\n",
    "    \"\"\", (\n",
    "        row['Region'], row['Country'], row['Item Type'], row['Sales Channel'], \n",
    "        row['Order Priority'], row['Order Date'], row['Order ID'], row['Ship Date'], \n",
    "        row['UnitsSold'], row['UnitPrice'], row['UnitCost'], row['TotalRevenue'], \n",
    "        row['TotalCost'], row['TotalProfit']\n",
    "    ))"
   ]
  },
  {
   "cell_type": "code",
   "execution_count": 71,
   "metadata": {},
   "outputs": [
    {
     "name": "stdout",
     "output_type": "stream",
     "text": [
      "Row(order_id=294530856, country='Italy', item_type='Cereal', order_date=Date(15293), order_priority='M', region='Europe', sales_channel='Online', ship_date=Date(15336), total_cost=829138.8125, total_profit=627217.1875, total_revenue=1456356.0, unit_cost=117.11000061035156, unit_price=205.6999969482422, units_sold=7080)\n",
      "Row(order_id=274930989, country='Dominica', item_type='Household', order_date=Date(15297), order_priority='C', region='Central America and the Caribbean', sales_channel='Offline', ship_date=Date(15321), total_cost=3539891.75, total_profit=1167402.125, total_revenue=4707294.0, unit_cost=502.5400085449219, unit_price=668.27001953125, units_sold=7044)\n",
      "Row(order_id=498071897, country='Taiwan', item_type='Cereal', order_date=Date(14710), order_priority='H', region='Asia', sales_channel='Online', ship_date=Date(14755), total_cost=1100482.625, total_profit=832480.25, total_revenue=1932962.875, unit_cost=117.11000061035156, unit_price=205.6999969482422, units_sold=9397)\n",
      "Row(order_id=940980136, country='New Zealand', item_type='Beverages', order_date=Date(15624), order_priority='M', region='Australia and Oceania', sales_channel='Online', ship_date=Date(15648), total_cost=184000.515625, total_profit=90640.078125, total_revenue=274640.59375, unit_cost=31.790000915527344, unit_price=47.45000076293945, units_sold=5788)\n",
      "Row(order_id=324669444, country='France', item_type='Cosmetics', order_date=Date(16776), order_priority='M', region='Europe', sales_channel='Online', ship_date=Date(16818), total_cost=1516254.125, total_profit=1001143.4375, total_revenue=2517397.5, unit_cost=263.3299865722656, unit_price=437.20001220703125, units_sold=5758)\n"
     ]
    }
   ],
   "source": [
    "rows = session.execute(\"SELECT * FROM sales_data LIMIT 5\")\n",
    "for row in rows:\n",
    "    print(row)"
   ]
  },
  {
   "cell_type": "markdown",
   "metadata": {},
   "source": [
    "# Silver Level"
   ]
  },
  {
   "cell_type": "markdown",
   "metadata": {},
   "source": [
    "Insert cleaned and transformed data"
   ]
  },
  {
   "cell_type": "code",
   "execution_count": 72,
   "metadata": {},
   "outputs": [
    {
     "data": {
      "text/html": [
       "<div>\n",
       "<style scoped>\n",
       "    .dataframe tbody tr th:only-of-type {\n",
       "        vertical-align: middle;\n",
       "    }\n",
       "\n",
       "    .dataframe tbody tr th {\n",
       "        vertical-align: top;\n",
       "    }\n",
       "\n",
       "    .dataframe thead th {\n",
       "        text-align: right;\n",
       "    }\n",
       "</style>\n",
       "<table border=\"1\" class=\"dataframe\">\n",
       "  <thead>\n",
       "    <tr style=\"text-align: right;\">\n",
       "      <th></th>\n",
       "      <th>Region</th>\n",
       "      <th>Country</th>\n",
       "      <th>Item Type</th>\n",
       "      <th>Sales Channel</th>\n",
       "      <th>Order Priority</th>\n",
       "      <th>Order Date</th>\n",
       "      <th>Order ID</th>\n",
       "      <th>Ship Date</th>\n",
       "      <th>UnitsSold</th>\n",
       "      <th>UnitPrice</th>\n",
       "      <th>UnitCost</th>\n",
       "      <th>TotalRevenue</th>\n",
       "      <th>TotalCost</th>\n",
       "      <th>TotalProfit</th>\n",
       "    </tr>\n",
       "  </thead>\n",
       "  <tbody>\n",
       "    <tr>\n",
       "      <th>0</th>\n",
       "      <td>Sub-Saharan Africa</td>\n",
       "      <td>South Africa</td>\n",
       "      <td>Fruits</td>\n",
       "      <td>Offline</td>\n",
       "      <td>M</td>\n",
       "      <td>2012-07-27</td>\n",
       "      <td>443368995</td>\n",
       "      <td>2012-07-28</td>\n",
       "      <td>1593</td>\n",
       "      <td>9.33</td>\n",
       "      <td>6.92</td>\n",
       "      <td>14862.69</td>\n",
       "      <td>11023.56</td>\n",
       "      <td>3839.13</td>\n",
       "    </tr>\n",
       "    <tr>\n",
       "      <th>1</th>\n",
       "      <td>Middle East and North Africa</td>\n",
       "      <td>Morocco</td>\n",
       "      <td>Clothes</td>\n",
       "      <td>Online</td>\n",
       "      <td>M</td>\n",
       "      <td>2013-09-14</td>\n",
       "      <td>667593514</td>\n",
       "      <td>2013-10-19</td>\n",
       "      <td>4611</td>\n",
       "      <td>109.28</td>\n",
       "      <td>35.84</td>\n",
       "      <td>503890.08</td>\n",
       "      <td>165258.24</td>\n",
       "      <td>338631.84</td>\n",
       "    </tr>\n",
       "    <tr>\n",
       "      <th>2</th>\n",
       "      <td>Australia and Oceania</td>\n",
       "      <td>Papua New Guinea</td>\n",
       "      <td>Meat</td>\n",
       "      <td>Offline</td>\n",
       "      <td>M</td>\n",
       "      <td>2015-05-15</td>\n",
       "      <td>940995585</td>\n",
       "      <td>2015-06-04</td>\n",
       "      <td>360</td>\n",
       "      <td>421.89</td>\n",
       "      <td>364.69</td>\n",
       "      <td>151880.40</td>\n",
       "      <td>131288.40</td>\n",
       "      <td>20592.00</td>\n",
       "    </tr>\n",
       "  </tbody>\n",
       "</table>\n",
       "</div>"
      ],
      "text/plain": [
       "                         Region           Country Item Type Sales Channel  \\\n",
       "0            Sub-Saharan Africa      South Africa    Fruits       Offline   \n",
       "1  Middle East and North Africa           Morocco   Clothes        Online   \n",
       "2         Australia and Oceania  Papua New Guinea      Meat       Offline   \n",
       "\n",
       "  Order Priority  Order Date   Order ID   Ship Date  UnitsSold  UnitPrice  \\\n",
       "0              M  2012-07-27  443368995  2012-07-28       1593       9.33   \n",
       "1              M  2013-09-14  667593514  2013-10-19       4611     109.28   \n",
       "2              M  2015-05-15  940995585  2015-06-04        360     421.89   \n",
       "\n",
       "   UnitCost  TotalRevenue  TotalCost  TotalProfit  \n",
       "0      6.92      14862.69   11023.56      3839.13  \n",
       "1     35.84     503890.08  165258.24    338631.84  \n",
       "2    364.69     151880.40  131288.40     20592.00  "
      ]
     },
     "execution_count": 72,
     "metadata": {},
     "output_type": "execute_result"
    }
   ],
   "source": [
    "df.head(3)"
   ]
  },
  {
   "cell_type": "code",
   "execution_count": 73,
   "metadata": {},
   "outputs": [],
   "source": [
    "# Calculate profit margin\n",
    "df['ProfitMargin_in_Percent'] = ((df['TotalProfit'] / df['TotalRevenue']) * 100).round(2)"
   ]
  },
  {
   "cell_type": "code",
   "execution_count": 74,
   "metadata": {},
   "outputs": [
    {
     "data": {
      "text/html": [
       "<div>\n",
       "<style scoped>\n",
       "    .dataframe tbody tr th:only-of-type {\n",
       "        vertical-align: middle;\n",
       "    }\n",
       "\n",
       "    .dataframe tbody tr th {\n",
       "        vertical-align: top;\n",
       "    }\n",
       "\n",
       "    .dataframe thead th {\n",
       "        text-align: right;\n",
       "    }\n",
       "</style>\n",
       "<table border=\"1\" class=\"dataframe\">\n",
       "  <thead>\n",
       "    <tr style=\"text-align: right;\">\n",
       "      <th></th>\n",
       "      <th>Region</th>\n",
       "      <th>Country</th>\n",
       "      <th>Item Type</th>\n",
       "      <th>Sales Channel</th>\n",
       "      <th>Order Priority</th>\n",
       "      <th>Order Date</th>\n",
       "      <th>Order ID</th>\n",
       "      <th>Ship Date</th>\n",
       "      <th>UnitsSold</th>\n",
       "      <th>UnitPrice</th>\n",
       "      <th>UnitCost</th>\n",
       "      <th>TotalRevenue</th>\n",
       "      <th>TotalCost</th>\n",
       "      <th>TotalProfit</th>\n",
       "      <th>ProfitMargin_in_Percent</th>\n",
       "    </tr>\n",
       "  </thead>\n",
       "  <tbody>\n",
       "    <tr>\n",
       "      <th>0</th>\n",
       "      <td>Sub-Saharan Africa</td>\n",
       "      <td>South Africa</td>\n",
       "      <td>Fruits</td>\n",
       "      <td>Offline</td>\n",
       "      <td>M</td>\n",
       "      <td>2012-07-27</td>\n",
       "      <td>443368995</td>\n",
       "      <td>2012-07-28</td>\n",
       "      <td>1593</td>\n",
       "      <td>9.33</td>\n",
       "      <td>6.92</td>\n",
       "      <td>14862.69</td>\n",
       "      <td>11023.56</td>\n",
       "      <td>3839.13</td>\n",
       "      <td>25.83</td>\n",
       "    </tr>\n",
       "    <tr>\n",
       "      <th>1</th>\n",
       "      <td>Middle East and North Africa</td>\n",
       "      <td>Morocco</td>\n",
       "      <td>Clothes</td>\n",
       "      <td>Online</td>\n",
       "      <td>M</td>\n",
       "      <td>2013-09-14</td>\n",
       "      <td>667593514</td>\n",
       "      <td>2013-10-19</td>\n",
       "      <td>4611</td>\n",
       "      <td>109.28</td>\n",
       "      <td>35.84</td>\n",
       "      <td>503890.08</td>\n",
       "      <td>165258.24</td>\n",
       "      <td>338631.84</td>\n",
       "      <td>67.20</td>\n",
       "    </tr>\n",
       "    <tr>\n",
       "      <th>2</th>\n",
       "      <td>Australia and Oceania</td>\n",
       "      <td>Papua New Guinea</td>\n",
       "      <td>Meat</td>\n",
       "      <td>Offline</td>\n",
       "      <td>M</td>\n",
       "      <td>2015-05-15</td>\n",
       "      <td>940995585</td>\n",
       "      <td>2015-06-04</td>\n",
       "      <td>360</td>\n",
       "      <td>421.89</td>\n",
       "      <td>364.69</td>\n",
       "      <td>151880.40</td>\n",
       "      <td>131288.40</td>\n",
       "      <td>20592.00</td>\n",
       "      <td>13.56</td>\n",
       "    </tr>\n",
       "  </tbody>\n",
       "</table>\n",
       "</div>"
      ],
      "text/plain": [
       "                         Region           Country Item Type Sales Channel  \\\n",
       "0            Sub-Saharan Africa      South Africa    Fruits       Offline   \n",
       "1  Middle East and North Africa           Morocco   Clothes        Online   \n",
       "2         Australia and Oceania  Papua New Guinea      Meat       Offline   \n",
       "\n",
       "  Order Priority  Order Date   Order ID   Ship Date  UnitsSold  UnitPrice  \\\n",
       "0              M  2012-07-27  443368995  2012-07-28       1593       9.33   \n",
       "1              M  2013-09-14  667593514  2013-10-19       4611     109.28   \n",
       "2              M  2015-05-15  940995585  2015-06-04        360     421.89   \n",
       "\n",
       "   UnitCost  TotalRevenue  TotalCost  TotalProfit  ProfitMargin_in_Percent  \n",
       "0      6.92      14862.69   11023.56      3839.13                    25.83  \n",
       "1     35.84     503890.08  165258.24    338631.84                    67.20  \n",
       "2    364.69     151880.40  131288.40     20592.00                    13.56  "
      ]
     },
     "execution_count": 74,
     "metadata": {},
     "output_type": "execute_result"
    }
   ],
   "source": [
    "df.head(3)"
   ]
  },
  {
   "cell_type": "markdown",
   "metadata": {},
   "source": [
    "Create silver table in DB"
   ]
  },
  {
   "cell_type": "code",
   "execution_count": 75,
   "metadata": {},
   "outputs": [],
   "source": [
    "# Drop the existing table if already created\n",
    "# session.execute(\"DROP TABLE IF EXISTS silver_sales_data\")"
   ]
  },
  {
   "cell_type": "code",
   "execution_count": 76,
   "metadata": {},
   "outputs": [
    {
     "data": {
      "text/plain": [
       "<cassandra.cluster.ResultSet at 0x21d048f7760>"
      ]
     },
     "execution_count": 76,
     "metadata": {},
     "output_type": "execute_result"
    }
   ],
   "source": [
    "session.execute(\"\"\"\n",
    "CREATE TABLE IF NOT EXISTS silver_sales_data (\n",
    "    region TEXT,\n",
    "    country TEXT,\n",
    "    item_type TEXT,\n",
    "    sales_channel TEXT,\n",
    "    order_priority TEXT,\n",
    "    order_date DATE,\n",
    "    order_id BIGINT PRIMARY KEY,\n",
    "    ship_date DATE,\n",
    "    units_sold INT,\n",
    "    unit_price FLOAT,\n",
    "    unit_cost FLOAT,\n",
    "    total_revenue FLOAT,\n",
    "    total_cost FLOAT,\n",
    "    total_profit FLOAT,\n",
    "    ProfitMargin_in_Percent FLOAT\n",
    ")\n",
    "\"\"\")"
   ]
  },
  {
   "cell_type": "code",
   "execution_count": 77,
   "metadata": {},
   "outputs": [],
   "source": [
    "# Insert into the Silver table\n",
    "for _, row in df.iterrows():\n",
    "    session.execute(\"\"\"\n",
    "    INSERT INTO silver_sales_data (\n",
    "        region, country, item_type, sales_channel, order_priority, order_date, \n",
    "        order_id, ship_date, units_sold, unit_price, unit_cost, total_revenue, \n",
    "        total_cost, total_profit, ProfitMargin_in_Percent\n",
    "    ) VALUES (%s, %s, %s, %s, %s, %s, %s, %s, %s, %s, %s, %s, %s, %s, %s)\n",
    "    \"\"\", (\n",
    "        row['Region'], row['Country'], row['Item Type'], row['Sales Channel'], \n",
    "        row['Order Priority'], row['Order Date'], row['Order ID'], row['Ship Date'], \n",
    "        row['UnitsSold'], row['UnitPrice'], row['UnitCost'], row['TotalRevenue'], \n",
    "        row['TotalCost'], row['TotalProfit'], row['ProfitMargin_in_Percent']\n",
    "    ))"
   ]
  },
  {
   "cell_type": "code",
   "execution_count": 78,
   "metadata": {},
   "outputs": [
    {
     "name": "stdout",
     "output_type": "stream",
     "text": [
      "Row(order_id=294530856, country='Italy', item_type='Cereal', order_date=Date(15293), order_priority='M', profitmargin_in_percent=43.06999969482422, region='Europe', sales_channel='Online', ship_date=Date(15336), total_cost=829138.8125, total_profit=627217.1875, total_revenue=1456356.0, unit_cost=117.11000061035156, unit_price=205.6999969482422, units_sold=7080)\n",
      "Row(order_id=274930989, country='Dominica', item_type='Household', order_date=Date(15297), order_priority='C', profitmargin_in_percent=24.799999237060547, region='Central America and the Caribbean', sales_channel='Offline', ship_date=Date(15321), total_cost=3539891.75, total_profit=1167402.125, total_revenue=4707294.0, unit_cost=502.5400085449219, unit_price=668.27001953125, units_sold=7044)\n",
      "Row(order_id=498071897, country='Taiwan', item_type='Cereal', order_date=Date(14710), order_priority='H', profitmargin_in_percent=43.06999969482422, region='Asia', sales_channel='Online', ship_date=Date(14755), total_cost=1100482.625, total_profit=832480.25, total_revenue=1932962.875, unit_cost=117.11000061035156, unit_price=205.6999969482422, units_sold=9397)\n",
      "Row(order_id=940980136, country='New Zealand', item_type='Beverages', order_date=Date(15624), order_priority='M', profitmargin_in_percent=33.0, region='Australia and Oceania', sales_channel='Online', ship_date=Date(15648), total_cost=184000.515625, total_profit=90640.078125, total_revenue=274640.59375, unit_cost=31.790000915527344, unit_price=47.45000076293945, units_sold=5788)\n",
      "Row(order_id=324669444, country='France', item_type='Cosmetics', order_date=Date(16776), order_priority='M', profitmargin_in_percent=39.77000045776367, region='Europe', sales_channel='Online', ship_date=Date(16818), total_cost=1516254.125, total_profit=1001143.4375, total_revenue=2517397.5, unit_cost=263.3299865722656, unit_price=437.20001220703125, units_sold=5758)\n"
     ]
    }
   ],
   "source": [
    "rows = session.execute(\"SELECT * FROM silver_sales_data LIMIT 5\")\n",
    "for row in rows:\n",
    "    print(row)          "
   ]
  },
  {
   "cell_type": "markdown",
   "metadata": {},
   "source": [
    "# Gold Level "
   ]
  },
  {
   "cell_type": "code",
   "execution_count": 79,
   "metadata": {},
   "outputs": [],
   "source": [
    "# Drop the existing table if already created\n",
    "# session.execute(\"DROP TABLE IF EXISTS gold_total_profit_by_region\")"
   ]
  },
  {
   "cell_type": "markdown",
   "metadata": {},
   "source": [
    "Table 1"
   ]
  },
  {
   "cell_type": "code",
   "execution_count": 80,
   "metadata": {},
   "outputs": [],
   "source": [
    "# Create Gold Table 1\n",
    "session.execute(\"\"\"\n",
    "CREATE TABLE IF NOT EXISTS gold_total_profit_by_region (\n",
    "    region TEXT,\n",
    "    country TEXT,\n",
    "    total_profit FLOAT,\n",
    "    PRIMARY KEY (region, country)\n",
    ")\n",
    "\"\"\")\n",
    "\n",
    "gold1_df = df.groupby(['Region', 'Country'])['TotalProfit'].sum().reset_index()\n",
    "for _, row in gold1_df.iterrows():\n",
    "    session.execute(\"\"\"\n",
    "    INSERT INTO gold_total_profit_by_region (region, country, total_profit)\n",
    "    VALUES (%s, %s, %s)\n",
    "    \"\"\", (row['Region'], row['Country'], row['TotalProfit']))\n"
   ]
  },
  {
   "cell_type": "code",
   "execution_count": 81,
   "metadata": {},
   "outputs": [
    {
     "name": "stdout",
     "output_type": "stream",
     "text": [
      "Row(region='Australia and Oceania', country='East Timor', total_profit=22944.810546875)\n",
      "Row(region='Australia and Oceania', country='New Zealand', total_profit=90640.078125)\n",
      "Row(region='Australia and Oceania', country='Papua New Guinea', total_profit=688308.5)\n",
      "Row(region='Australia and Oceania', country='Samoa ', total_profit=937534.625)\n",
      "Row(region='Australia and Oceania', country='Solomon Islands', total_profit=700209.25)\n"
     ]
    }
   ],
   "source": [
    "rows = session.execute(\"SELECT * FROM gold_total_profit_by_region LIMIT 5\")\n",
    "for row in rows:\n",
    "    print(row)"
   ]
  },
  {
   "cell_type": "code",
   "execution_count": 82,
   "metadata": {},
   "outputs": [],
   "source": [
    "# Drop the existing table if already created\n",
    "# session.execute(\"DROP TABLE IF EXISTS gold_total_revenue_by_region\")"
   ]
  },
  {
   "cell_type": "markdown",
   "metadata": {},
   "source": [
    "Table 2"
   ]
  },
  {
   "cell_type": "code",
   "execution_count": 83,
   "metadata": {},
   "outputs": [],
   "source": [
    "# Create Gold Table 2\n",
    "session.execute(\"\"\"\n",
    "CREATE TABLE IF NOT EXISTS gold_total_revenue_by_region (\n",
    "    region TEXT,\n",
    "    total_revenue FLOAT,\n",
    "    PRIMARY KEY (region)\n",
    ")\n",
    "\"\"\")\n",
    "\n",
    "gold2_df = df.groupby(['Region'])['TotalRevenue'].sum().reset_index()\n",
    "for _, row in gold2_df.iterrows():\n",
    "    session.execute(\"\"\"\n",
    "    INSERT INTO gold_total_revenue_by_region (region, total_revenue)\n",
    "    VALUES (%s, %s)\n",
    "    \"\"\", (row['Region'], row['TotalRevenue']))"
   ]
  },
  {
   "cell_type": "code",
   "execution_count": 84,
   "metadata": {},
   "outputs": [
    {
     "name": "stdout",
     "output_type": "stream",
     "text": [
      "Row(region='Australia and Oceania', total_revenue=10711258.0)\n",
      "Row(region='Europe', total_revenue=34964748.0)\n",
      "Row(region='Middle East and North Africa', total_revenue=24765128.0)\n",
      "Row(region='Central America and the Caribbean', total_revenue=17570836.0)\n",
      "Row(region='Asia', total_revenue=28840812.0)\n"
     ]
    }
   ],
   "source": [
    "rows = session.execute(\"SELECT * FROM gold_total_revenue_by_region LIMIT 5\")\n",
    "for row in rows:\n",
    "    print(row)"
   ]
  },
  {
   "cell_type": "code",
   "execution_count": 85,
   "metadata": {},
   "outputs": [],
   "source": [
    "# Drop the existing table if already created\n",
    "# session.execute(\"DROP TABLE IF EXISTS gold_avg_profit_margin_by_channel\")"
   ]
  },
  {
   "cell_type": "markdown",
   "metadata": {},
   "source": [
    "Table 3"
   ]
  },
  {
   "cell_type": "code",
   "execution_count": 86,
   "metadata": {},
   "outputs": [],
   "source": [
    "# Create Gold Table 3\n",
    "session.execute(\"\"\"\n",
    "CREATE TABLE IF NOT EXISTS gold_avg_profit_margin_by_channel (\n",
    "    sales_channel TEXT,\n",
    "    avg_profit_margin FLOAT,\n",
    "    PRIMARY KEY (sales_channel)\n",
    ")\n",
    "\"\"\")\n",
    "\n",
    "# ProfitMargin \n",
    "df['ProfitMargin'] = (df['TotalProfit'] / df['TotalRevenue'])\n",
    "\n",
    "gold3_df = df.groupby(['Sales Channel'])['ProfitMargin'].mean().reset_index()\n",
    "for _, row in gold3_df.iterrows():\n",
    "    session.execute(\"\"\"\n",
    "    INSERT INTO gold_avg_profit_margin_by_channel (sales_channel, avg_profit_margin)\n",
    "    VALUES (%s, %s)\n",
    "    \"\"\", (row['Sales Channel'], row['ProfitMargin']))\n"
   ]
  },
  {
   "cell_type": "code",
   "execution_count": 87,
   "metadata": {},
   "outputs": [
    {
     "name": "stdout",
     "output_type": "stream",
     "text": [
      "Row(sales_channel='Online', avg_profit_margin=0.3344477713108063)\n",
      "Row(sales_channel='Offline', avg_profit_margin=0.3479812741279602)\n"
     ]
    }
   ],
   "source": [
    "rows = session.execute(\"SELECT * FROM gold_avg_profit_margin_by_channel\")\n",
    "for row in rows:\n",
    "    print(row)"
   ]
  }
 ],
 "metadata": {
  "kernelspec": {
   "display_name": "Python 3",
   "language": "python",
   "name": "python3"
  },
  "language_info": {
   "codemirror_mode": {
    "name": "ipython",
    "version": 3
   },
   "file_extension": ".py",
   "mimetype": "text/x-python",
   "name": "python",
   "nbconvert_exporter": "python",
   "pygments_lexer": "ipython3",
   "version": "3.9.5"
  }
 },
 "nbformat": 4,
 "nbformat_minor": 2
}
